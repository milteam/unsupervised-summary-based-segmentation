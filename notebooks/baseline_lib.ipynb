{
 "cells": [
  {
   "attachments": {},
   "cell_type": "markdown",
   "id": "d886cb94-0935-4818-89c6-444e9c8f5126",
   "metadata": {},
   "source": [
    "# Topic segmentation"
   ]
  },
  {
   "cell_type": "code",
   "execution_count": null,
   "id": "7ab0e411",
   "metadata": {},
   "outputs": [],
   "source": [
    "import sys\n",
    "\n",
    "sys.path.append('..')\n",
    "sys.path.append('../lib/pipelines/')\n",
    "sys.path.append('../lib/pipelines/utils/')\n",
    "\n",
    "\n",
    "import os\n",
    "\n",
    "os.environ['TOKENIZERS_PARALLELISM'] = 'true'\n",
    "os.environ['CUDA_VISIBLE_DEVICES'] = '0,1,2,3'\n",
    "DEVICES = 'cuda'"
   ]
  },
  {
   "cell_type": "code",
   "execution_count": null,
   "id": "cdf4c1cc",
   "metadata": {},
   "outputs": [],
   "source": [
    "from lib.pipelines.utils.dataset import load_dataset_by\n",
    "from lib.pipelines.utils.general import load_config_by"
   ]
  },
  {
   "cell_type": "code",
   "execution_count": null,
   "id": "7cecce15",
   "metadata": {},
   "outputs": [],
   "source": [
    "dataset_name = 'ami'\n",
    "if dataset_name == 'wiki50':\n",
    "    input_path = '/data_mil/shared/datasets/nlp/wiki_test_50/'\n",
    "elif dataset_name == 'wiki727train':\n",
    "    input_path = '/data_mil/shared/datasets/nlp/wiki_727/train/'\n",
    "elif dataset_name == 'wiki727test':\n",
    "    input_path = '/data_mil/shared/datasets/nlp/wiki_727/test/'\n",
    "elif dataset_name == 'ami':\n",
    "    input_path = '/data_mil/shared/datasets/nlp/ami-corpus/topics/'\n",
    "else:\n",
    "    raise ValueError('No such dataset_name!')"
   ]
  },
  {
   "cell_type": "code",
   "execution_count": null,
   "id": "aa4c3ea3",
   "metadata": {},
   "outputs": [],
   "source": [
    "config_path = '../configs/'\n",
    "arg_dict = {\n",
    "    'input_path': input_path\n",
    "}\n",
    "cfg = load_config_by(arg_dict, config_path)\n",
    "test_ds = load_dataset_by(cfg)"
   ]
  },
  {
   "cell_type": "code",
   "execution_count": null,
   "id": "472c47ba",
   "metadata": {},
   "outputs": [],
   "source": [
    "test_ds"
   ]
  },
  {
   "cell_type": "code",
   "execution_count": null,
   "id": "fa15c176",
   "metadata": {},
   "outputs": [],
   "source": [
    "test_ds[1]"
   ]
  },
  {
   "cell_type": "code",
   "execution_count": null,
   "id": "2c46d8f6",
   "metadata": {},
   "outputs": [],
   "source": [
    "from tqdm import tqdm\n",
    "\n",
    "segment_lengths = []\n",
    "for data in tqdm(test_ds):\n",
    "    indices = data['split_indices']\n",
    "    lengths = []\n",
    "    for i in range(1, len(indices)):\n",
    "        length = indices[i] - indices[i-1]\n",
    "        lengths.append(length)\n",
    "    avg_segment_length = sum(lengths) / len(lengths)\n",
    "    segment_lengths.append(avg_segment_length)\n",
    "avg_segment_length = sum(segment_lengths) / len(segment_lengths)\n",
    "print(avg_segment_length)"
   ]
  },
  {
   "cell_type": "code",
   "execution_count": null,
   "id": "5ce443a5",
   "metadata": {},
   "outputs": [],
   "source": []
  }
 ],
 "metadata": {
  "kernelspec": {
   "display_name": "Python 3 (ipykernel)",
   "language": "python",
   "name": "python3"
  },
  "language_info": {
   "codemirror_mode": {
    "name": "ipython",
    "version": 3
   },
   "file_extension": ".py",
   "mimetype": "text/x-python",
   "name": "python",
   "nbconvert_exporter": "python",
   "pygments_lexer": "ipython3",
   "version": "3.9.16"
  }
 },
 "nbformat": 4,
 "nbformat_minor": 5
}
